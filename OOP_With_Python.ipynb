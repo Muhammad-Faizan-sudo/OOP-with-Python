{
 "cells": [
  {
   "cell_type": "markdown",
   "id": "f9709e96",
   "metadata": {},
   "source": [
    "- Everything in python is object oriented, from initializing variable to anything.\n",
    "- Manupulation operation can be performed by two type objects.\n",
    "- __init__ function is basically constructor it will automatically call when object is created.\n",
    "\n",
    "__Reference__: https://www.youtube.com/watch?v=JeznW_7DlB0"
   ]
  },
  {
   "cell_type": "code",
   "execution_count": 3,
   "id": "649959b2",
   "metadata": {},
   "outputs": [
    {
     "name": "stdout",
     "output_type": "stream",
     "text": [
      "<class 'int'>\n",
      "<class 'function'>\n"
     ]
    }
   ],
   "source": [
    "x=1 # this is object of int type class\n",
    "\n",
    "print(type(x)) # here x is object of class int\n",
    "def hello():\n",
    "    print(\"Hi\")\n",
    "print(type(hello))"
   ]
  },
  {
   "cell_type": "code",
   "execution_count": 23,
   "id": "c038d5a6",
   "metadata": {},
   "outputs": [
    {
     "name": "stdout",
     "output_type": "stream",
     "text": [
      "HELLO\n"
     ]
    }
   ],
   "source": [
    "greet = \"Hello\" # create the object or instance of class string \n",
    "print(greet.upper()) # object string contain the method of name upper() we calling this function"
   ]
  },
  {
   "cell_type": "code",
   "execution_count": 24,
   "id": "a777f062",
   "metadata": {
    "scrolled": false
   },
   "outputs": [
    {
     "ename": "AttributeError",
     "evalue": "'int' object has no attribute 'upper'",
     "output_type": "error",
     "traceback": [
      "\u001b[0;31m---------------------------------------------------------------------------\u001b[0m",
      "\u001b[0;31mAttributeError\u001b[0m                            Traceback (most recent call last)",
      "Input \u001b[0;32mIn [24]\u001b[0m, in \u001b[0;36m<cell line: 3>\u001b[0;34m()\u001b[0m\n\u001b[1;32m      1\u001b[0m \u001b[38;5;66;03m# if I call same method for int class it will shows the error because it doesn't contain the attribute of name upper in int class.\u001b[39;00m\n\u001b[1;32m      2\u001b[0m x \u001b[38;5;241m=\u001b[39m \u001b[38;5;241m1\u001b[39m\n\u001b[0;32m----> 3\u001b[0m \u001b[38;5;28mprint\u001b[39m(\u001b[43mx\u001b[49m\u001b[38;5;241;43m.\u001b[39;49m\u001b[43mupper\u001b[49m())\n",
      "\u001b[0;31mAttributeError\u001b[0m: 'int' object has no attribute 'upper'"
     ]
    }
   ],
   "source": [
    "# if I call same method for int class it will shows the error because it doesn't contain the attribute of name upper in int class.\n",
    "x = 1\n",
    "print(x.upper())"
   ]
  },
  {
   "cell_type": "code",
   "execution_count": 34,
   "id": "9803c4f8",
   "metadata": {
    "scrolled": true
   },
   "outputs": [
    {
     "name": "stdout",
     "output_type": "stream",
     "text": [
      "Every thing is initialized\n"
     ]
    }
   ],
   "source": [
    "# user-defined class in python\n",
    "class Bowler:\n",
    "    def __init__(self):\n",
    "        print(\"Every thing is initialized\")\n",
    "    def spin_bowler(self):       \n",
    "        return \"spin bowler\"\n",
    "    def fast_bowler(self):\n",
    "        return \"fast bowler\"\n",
    "B = Bowler()"
   ]
  },
  {
   "cell_type": "code",
   "execution_count": 33,
   "id": "51fdfc10",
   "metadata": {},
   "outputs": [
    {
     "name": "stdout",
     "output_type": "stream",
     "text": [
      "<class '__main__.Bowler'>\n",
      "spin bowler\n"
     ]
    }
   ],
   "source": [
    "print(type(B))\n",
    "print(B.spin_bowler()) # to use the method of instance 'B'"
   ]
  },
  {
   "cell_type": "code",
   "execution_count": 55,
   "id": "6106601d",
   "metadata": {},
   "outputs": [
    {
     "name": "stdout",
     "output_type": "stream",
     "text": [
      "fast bowler\n"
     ]
    }
   ],
   "source": [
    "def spin_bowler():       \n",
    "    return \"spin bowler\"\n",
    "def fast_bowler():\n",
    "    return \"fast bowler\"\n",
    "\n",
    "# user-defined class in python\n",
    "class Bowler:\n",
    "    def __init__(self, bowl_typ=\"fast\"):\n",
    "        self.bowl_typ = bowl_typ\n",
    "    def bowling_type(self):\n",
    "        return self.bowl_typ + \" bowler\" \n",
    "B = Bowler()\n",
    "print(B.bowling_type())"
   ]
  },
  {
   "cell_type": "code",
   "execution_count": 59,
   "id": "2dbefa52",
   "metadata": {},
   "outputs": [
    {
     "name": "stdout",
     "output_type": "stream",
     "text": [
      "fast bowler\n",
      "None\n",
      "spin bowler\n"
     ]
    }
   ],
   "source": [
    "class Bowler:\n",
    "    def __init__(self, bowl_typ=\"fast\", bowler_name=\"Faizan\"):\n",
    "        self.bowl_typ = bowl_typ\n",
    "        self.bowler_name = bowler_name\n",
    "    def bowling_type(self):\n",
    "        return self.bowl_typ + \" bowler\" \n",
    "    def upd_bowl_typ(self, new_bowl_typ):\n",
    "        self.bowl_typ = new_bowl_typ\n",
    "B = Bowler()\n",
    "print(B.bowling_type())\n",
    "print(B.upd_bowl_typ(\"spin\"))\n",
    "print(B.bowling_type())"
   ]
  },
  {
   "cell_type": "code",
   "execution_count": null,
   "id": "2ab4eb01",
   "metadata": {},
   "outputs": [],
   "source": [
    "### Student and course example\n",
    "\n",
    "class Student:\n",
    "    def __init__(self, name, age, grade):\n",
    "        self.name = name\n",
    "        self.age = age\n",
    "        self.grade = grade\n",
    "    def get_grade(self):\n",
    "        return self.grade\n",
    "\n",
    "class Course:\n",
    "    def __init__(self, course, max_std):\n",
    "        self.course = course\n",
    "        self.max_std = max_std\n",
    "        self.enrolled_stds = []\n",
    "        \n",
    "    def add_new_student(self, student):        \n",
    "        self.enrolled_stds.append(student)\n",
    "        \n",
    "    def get_avg_grade(self):\n",
    "        print(len(self.enrolled_stds))\n",
    "        grade = 0\n",
    "        if len(self.enrolled_stds) < self.max_std:\n",
    "            for student in self.enrolled_stds:\n",
    "                grade = grade + student.get_grade()\n",
    "            return grade\n",
    "        else:            \n",
    "            return None\n",
    "        \n",
    "s1 = Student(\"Faizan\", 23, 80)\n",
    "s2 = Student(\"Zeeshan\", 22, 60)\n",
    "s3 = Student(\"Usman\", 18, 60)\n",
    "\n",
    "c1 = Course(\"ML\", 5)\n",
    "c1.add_new_student(s1)\n",
    "c1.add_new_student(s2)\n",
    "print(c1.get_avg_grade())\n",
    "\n",
    "### inheritance \n",
    "\n",
    "class Employee:\n",
    "    def __init__(self, name, age):\n",
    "        self.name = name\n",
    "        self.age = age\n",
    "    def show(self):\n",
    "        print(f\"I am {self.name} and I am {self.age} years old.\")\n",
    "        \n",
    "class ML_Engineer(Employee):\n",
    "    def show_role(self):        \n",
    "        print(\"I am ML engineer\")\n",
    "\n",
    "class MobileAppDev(Employee):\n",
    "    def show_role(self):        \n",
    "        print(\"I am Mobile app developer\")\n",
    "\n",
    "E = Employee(\"M.Faizan\", 23)\n",
    "ml = ML_Engineer(\"M.Faizan\", 23)\n",
    "print(ml.show_role())\n",
    "print(ml.show())\n",
    "\n",
    "\n",
    "class Person:\n",
    "    no_of_peop = 100\n",
    "    def __init__(self, name):\n",
    "        self.name = name\n",
    "p1 = Person(\"ALI\")\n",
    "print(p1)\n",
    "print(p1.no_of_peop)\n",
    "\n",
    "Person.no_of_peop = 1000 \n",
    "print(p1.no_of_peop)\n",
    "\n",
    "# we can only global varible in specific class under @classmethod using cls and with direct name of class\n",
    "class Laptop:\n",
    "    company = \"Hp\"\n",
    "    \n",
    "    def __init__(self, used, price):\n",
    "        self.used = used\n",
    "        self.price = price\n",
    "    @classmethod\n",
    "    def show_specs(cls):\n",
    "        return cls.company #, cls.used, cls.price\n",
    "    def show_all(self):\n",
    "        return self.used, self.price\n",
    "    \n",
    "l1 = Laptop(1, 50000)\n",
    "Laptop.show_specs()\n",
    "l1.show_all()\n",
    "\n",
    "# @staticmethod use\n",
    "class Math:\n",
    "    @staticmethod\n",
    "    def square(x):\n",
    "        return x*x\n",
    "print(Math.square(5))\n",
    "\n"
   ]
  }
 ],
 "metadata": {
  "kernelspec": {
   "display_name": "Python 3 (ipykernel)",
   "language": "python",
   "name": "python3"
  },
  "language_info": {
   "codemirror_mode": {
    "name": "ipython",
    "version": 3
   },
   "file_extension": ".py",
   "mimetype": "text/x-python",
   "name": "python",
   "nbconvert_exporter": "python",
   "pygments_lexer": "ipython3",
   "version": "3.9.12"
  }
 },
 "nbformat": 4,
 "nbformat_minor": 5
}
